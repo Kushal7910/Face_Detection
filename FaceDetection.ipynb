{
  "nbformat": 4,
  "nbformat_minor": 0,
  "metadata": {
    "colab": {
      "provenance": [],
      "authorship_tag": "ABX9TyPSpslrmQVMO0opLnvvqh9C",
      "include_colab_link": true
    },
    "kernelspec": {
      "name": "python3",
      "display_name": "Python 3"
    },
    "language_info": {
      "name": "python"
    }
  },
  "cells": [
    {
      "cell_type": "markdown",
      "metadata": {
        "id": "view-in-github",
        "colab_type": "text"
      },
      "source": [
        "<a href=\"https://colab.research.google.com/github/Kushal7910/Face_Detection/blob/main/FaceDetection.ipynb\" target=\"_parent\"><img src=\"https://colab.research.google.com/assets/colab-badge.svg\" alt=\"Open In Colab\"/></a>"
      ]
    },
    {
      "cell_type": "code",
      "execution_count": null,
      "metadata": {
        "id": "rTOyGhb_H-O5"
      },
      "outputs": [],
      "source": [
        "!pip install opencv-python imgbeddings psycopg2-binary\n"
      ]
    },
    {
      "cell_type": "code",
      "execution_count": null,
      "metadata": {
        "id": "PZtR0-5BfzG7"
      },
      "outputs": [],
      "source": [
        "# importing the cv2 library\n",
        "import cv2\n",
        "\n",
        "# loading the haar case algorithm file into alg variable\n",
        "alg = \"/content/haarcascade_frontalface_default.xml\"\n",
        "# passing the algorithm to OpenCV\n",
        "haar_cascade = cv2.CascadeClassifier(alg)\n",
        "# loading the image path into file_name variable - replace <INSERT YOUR IMAGE NAME HERE> with the path to your image\n",
        "file_name = \"/test-img\"\n",
        "# reading the image\n",
        "img = cv2.imread(file_name, 0)\n",
        "# creating a black and white version of the image\n",
        "gray_img = cv2.cvtColor(img, cv2.COLOR_RGB2BGR)\n",
        "# detecting the faces\n",
        "faces = haar_cascade.detectMultiScale(\n",
        "    gray_img, scaleFactor=1.05, minNeighbors=5, minSize=(100, 100)\n",
        ")\n",
        "\n",
        "i = 0\n",
        "# for each face detected\n",
        "for x, y, w, h in faces:\n",
        "    # crop the image to select only the face\n",
        "    cropped_image = img[y : y + h, x : x + w]\n",
        "    # loading the target image path into target_file_name variable  - replace <INSERT YOUR TARGET IMAGE NAME HERE> with the path to your target image\n",
        "    target_file_name = 'stored-faces/' + str(i) + '.jpg'\n",
        "    cv2.imwrite(\n",
        "        target_file_name,\n",
        "        cropped_image,\n",
        "    )\n",
        "    i = i + 1;"
      ]
    },
    {
      "cell_type": "code",
      "source": [
        "# importing the required libraries\n",
        "import numpy as np\n",
        "from imgbeddings import imgbeddings\n",
        "from PIL import Image\n",
        "import psycopg2\n",
        "import os\n",
        "\n",
        "# connecting to the database - replace the SERVICE URI with the service URI\n",
        "conn = psycopg2.connect(\"<SERVICE_URI>\")\n",
        "\n",
        "for filename in os.listdir(\"stored-faces\"):\n",
        "    # opening the image\n",
        "    img = Image.open(\"stored-faces/\" + filename)\n",
        "    # loading the `imgbeddings`\n",
        "    ibed = imgbeddings()\n",
        "    # calculating the embeddings\n",
        "    embedding = ibed.to_embeddings(img)\n",
        "    cur = conn.cursor()\n",
        "    cur.execute(\"INSERT INTO pictures values (%s,%s)\", (filename, embedding[0].tolist()))\n",
        "    print(filename)\n",
        "conn.commit()"
      ],
      "metadata": {
        "id": "kFaKhMhLFM9m"
      },
      "execution_count": null,
      "outputs": []
    },
    {
      "cell_type": "code",
      "source": [
        "# loading the face image path into file_name variable\n",
        "file_name = \"solo-image.png\"  # replace <INSERT YOUR FACE FILE NAME> with the path to your image\n",
        "# opening the image\n",
        "img = Image.open(file_name)\n",
        "# loading the `imgbeddings`\n",
        "ibed = imgbeddings()\n",
        "# calculating the embeddings\n",
        "embedding = ibed.to_embeddings(img)"
      ],
      "metadata": {
        "id": "qVyWUfWEFREz"
      },
      "execution_count": null,
      "outputs": []
    },
    {
      "cell_type": "code",
      "source": [
        "from IPython.display import Image, display\n",
        "\n",
        "cur = conn.cursor()\n",
        "string_representation = \"[\"+ \",\".join(str(x) for x in embedding[0].tolist()) +\"]\"\n",
        "cur.execute(\"SELECT * FROM pictures ORDER BY embedding <-> %s LIMIT 1;\", (string_representation,))\n",
        "rows = cur.fetchall()\n",
        "for row in rows:\n",
        "    display(Image(filename=\"stored-faces/\"+row[0]))\n",
        "cur.close()"
      ],
      "metadata": {
        "id": "PM-7-RkYFdCP"
      },
      "execution_count": null,
      "outputs": []
    }
  ]
}